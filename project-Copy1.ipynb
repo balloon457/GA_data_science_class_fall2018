{
 "cells": [
  {
   "cell_type": "code",
   "execution_count": 251,
   "metadata": {},
   "outputs": [],
   "source": [
    "import datetime\n",
    "\n",
    "import matplotlib.pyplot as plt\n",
    "import seaborn as sns\n",
    "import numpy as np\n",
    "import pandas as pd\n",
    "import seaborn as sns\n",
    "from sklearn.model_selection import train_test_split\n",
    "from sklearn import metrics\n",
    "from sklearn.linear_model import LinearRegression\n",
    "from sklearn.neighbors import KNeighborsRegressor\n",
    "from sklearn.pipeline import make_pipeline\n",
    "from sklearn.preprocessing import StandardScaler\n",
    "from sklearn.cross_validation import cross_val_score\n",
    "from sklearn.model_selection import GridSearchCV, RandomizedSearchCV"
   ]
  },
  {
   "cell_type": "markdown",
   "metadata": {},
   "source": [
    "### Data"
   ]
  },
  {
   "cell_type": "code",
   "execution_count": 252,
   "metadata": {},
   "outputs": [
    {
     "data": {
      "text/html": [
       "<div>\n",
       "<style scoped>\n",
       "    .dataframe tbody tr th:only-of-type {\n",
       "        vertical-align: middle;\n",
       "    }\n",
       "\n",
       "    .dataframe tbody tr th {\n",
       "        vertical-align: top;\n",
       "    }\n",
       "\n",
       "    .dataframe thead th {\n",
       "        text-align: right;\n",
       "    }\n",
       "</style>\n",
       "<table border=\"1\" class=\"dataframe\">\n",
       "  <thead>\n",
       "    <tr style=\"text-align: right;\">\n",
       "      <th></th>\n",
       "      <th>id</th>\n",
       "      <th>funded_amount</th>\n",
       "      <th>loan_amount</th>\n",
       "      <th>activity</th>\n",
       "      <th>sector</th>\n",
       "      <th>use</th>\n",
       "      <th>country_code</th>\n",
       "      <th>country</th>\n",
       "      <th>region</th>\n",
       "      <th>currency</th>\n",
       "      <th>partner_id</th>\n",
       "      <th>posted_time</th>\n",
       "      <th>disbursed_time</th>\n",
       "      <th>funded_time</th>\n",
       "      <th>term_in_months</th>\n",
       "      <th>lender_count</th>\n",
       "      <th>tags</th>\n",
       "      <th>borrower_genders</th>\n",
       "      <th>repayment_interval</th>\n",
       "      <th>date</th>\n",
       "    </tr>\n",
       "  </thead>\n",
       "  <tbody>\n",
       "    <tr>\n",
       "      <th>0</th>\n",
       "      <td>653051</td>\n",
       "      <td>300.0</td>\n",
       "      <td>300.0</td>\n",
       "      <td>Fruits &amp; Vegetables</td>\n",
       "      <td>Food</td>\n",
       "      <td>To buy seasonal, fresh fruits to sell.</td>\n",
       "      <td>PK</td>\n",
       "      <td>Pakistan</td>\n",
       "      <td>Lahore</td>\n",
       "      <td>PKR</td>\n",
       "      <td>247.0</td>\n",
       "      <td>2014-01-01 06:12:39+00:00</td>\n",
       "      <td>2013-12-17 08:00:00+00:00</td>\n",
       "      <td>2014-01-02 10:06:32+00:00</td>\n",
       "      <td>12.0</td>\n",
       "      <td>12</td>\n",
       "      <td>NaN</td>\n",
       "      <td>female</td>\n",
       "      <td>irregular</td>\n",
       "      <td>2014-01-01</td>\n",
       "    </tr>\n",
       "    <tr>\n",
       "      <th>1</th>\n",
       "      <td>653053</td>\n",
       "      <td>575.0</td>\n",
       "      <td>575.0</td>\n",
       "      <td>Rickshaw</td>\n",
       "      <td>Transportation</td>\n",
       "      <td>to repair and maintain the auto rickshaw used ...</td>\n",
       "      <td>PK</td>\n",
       "      <td>Pakistan</td>\n",
       "      <td>Lahore</td>\n",
       "      <td>PKR</td>\n",
       "      <td>247.0</td>\n",
       "      <td>2014-01-01 06:51:08+00:00</td>\n",
       "      <td>2013-12-17 08:00:00+00:00</td>\n",
       "      <td>2014-01-02 09:17:23+00:00</td>\n",
       "      <td>11.0</td>\n",
       "      <td>14</td>\n",
       "      <td>NaN</td>\n",
       "      <td>female, female</td>\n",
       "      <td>irregular</td>\n",
       "      <td>2014-01-01</td>\n",
       "    </tr>\n",
       "    <tr>\n",
       "      <th>2</th>\n",
       "      <td>653068</td>\n",
       "      <td>150.0</td>\n",
       "      <td>150.0</td>\n",
       "      <td>Transportation</td>\n",
       "      <td>Transportation</td>\n",
       "      <td>To repair their old cycle-van and buy another ...</td>\n",
       "      <td>IN</td>\n",
       "      <td>India</td>\n",
       "      <td>Maynaguri</td>\n",
       "      <td>INR</td>\n",
       "      <td>334.0</td>\n",
       "      <td>2014-01-01 09:58:07+00:00</td>\n",
       "      <td>2013-12-17 08:00:00+00:00</td>\n",
       "      <td>2014-01-01 16:01:36+00:00</td>\n",
       "      <td>43.0</td>\n",
       "      <td>6</td>\n",
       "      <td>user_favorite, user_favorite</td>\n",
       "      <td>female</td>\n",
       "      <td>bullet</td>\n",
       "      <td>2014-01-01</td>\n",
       "    </tr>\n",
       "    <tr>\n",
       "      <th>3</th>\n",
       "      <td>653063</td>\n",
       "      <td>200.0</td>\n",
       "      <td>200.0</td>\n",
       "      <td>Embroidery</td>\n",
       "      <td>Arts</td>\n",
       "      <td>to purchase an embroidery machine and a variet...</td>\n",
       "      <td>PK</td>\n",
       "      <td>Pakistan</td>\n",
       "      <td>Lahore</td>\n",
       "      <td>PKR</td>\n",
       "      <td>247.0</td>\n",
       "      <td>2014-01-01 08:03:11+00:00</td>\n",
       "      <td>2013-12-24 08:00:00+00:00</td>\n",
       "      <td>2014-01-01 13:00:00+00:00</td>\n",
       "      <td>11.0</td>\n",
       "      <td>8</td>\n",
       "      <td>NaN</td>\n",
       "      <td>female</td>\n",
       "      <td>irregular</td>\n",
       "      <td>2014-01-01</td>\n",
       "    </tr>\n",
       "    <tr>\n",
       "      <th>4</th>\n",
       "      <td>653084</td>\n",
       "      <td>400.0</td>\n",
       "      <td>400.0</td>\n",
       "      <td>Milk Sales</td>\n",
       "      <td>Food</td>\n",
       "      <td>to purchase one buffalo.</td>\n",
       "      <td>PK</td>\n",
       "      <td>Pakistan</td>\n",
       "      <td>Abdul Hakeem</td>\n",
       "      <td>PKR</td>\n",
       "      <td>245.0</td>\n",
       "      <td>2014-01-01 11:53:19+00:00</td>\n",
       "      <td>2013-12-17 08:00:00+00:00</td>\n",
       "      <td>2014-01-01 19:18:51+00:00</td>\n",
       "      <td>14.0</td>\n",
       "      <td>16</td>\n",
       "      <td>NaN</td>\n",
       "      <td>female</td>\n",
       "      <td>monthly</td>\n",
       "      <td>2014-01-01</td>\n",
       "    </tr>\n",
       "  </tbody>\n",
       "</table>\n",
       "</div>"
      ],
      "text/plain": [
       "       id  funded_amount  loan_amount             activity          sector  \\\n",
       "0  653051          300.0        300.0  Fruits & Vegetables            Food   \n",
       "1  653053          575.0        575.0             Rickshaw  Transportation   \n",
       "2  653068          150.0        150.0       Transportation  Transportation   \n",
       "3  653063          200.0        200.0           Embroidery            Arts   \n",
       "4  653084          400.0        400.0           Milk Sales            Food   \n",
       "\n",
       "                                                 use country_code   country  \\\n",
       "0            To buy seasonal, fresh fruits to sell.            PK  Pakistan   \n",
       "1  to repair and maintain the auto rickshaw used ...           PK  Pakistan   \n",
       "2  To repair their old cycle-van and buy another ...           IN     India   \n",
       "3  to purchase an embroidery machine and a variet...           PK  Pakistan   \n",
       "4                           to purchase one buffalo.           PK  Pakistan   \n",
       "\n",
       "         region currency  partner_id                posted_time  \\\n",
       "0        Lahore      PKR       247.0  2014-01-01 06:12:39+00:00   \n",
       "1        Lahore      PKR       247.0  2014-01-01 06:51:08+00:00   \n",
       "2     Maynaguri      INR       334.0  2014-01-01 09:58:07+00:00   \n",
       "3        Lahore      PKR       247.0  2014-01-01 08:03:11+00:00   \n",
       "4  Abdul Hakeem      PKR       245.0  2014-01-01 11:53:19+00:00   \n",
       "\n",
       "              disbursed_time                funded_time  term_in_months  \\\n",
       "0  2013-12-17 08:00:00+00:00  2014-01-02 10:06:32+00:00            12.0   \n",
       "1  2013-12-17 08:00:00+00:00  2014-01-02 09:17:23+00:00            11.0   \n",
       "2  2013-12-17 08:00:00+00:00  2014-01-01 16:01:36+00:00            43.0   \n",
       "3  2013-12-24 08:00:00+00:00  2014-01-01 13:00:00+00:00            11.0   \n",
       "4  2013-12-17 08:00:00+00:00  2014-01-01 19:18:51+00:00            14.0   \n",
       "\n",
       "   lender_count                          tags borrower_genders  \\\n",
       "0            12                           NaN           female   \n",
       "1            14                           NaN   female, female   \n",
       "2             6  user_favorite, user_favorite           female   \n",
       "3             8                           NaN           female   \n",
       "4            16                           NaN           female   \n",
       "\n",
       "  repayment_interval        date  \n",
       "0          irregular  2014-01-01  \n",
       "1          irregular  2014-01-01  \n",
       "2             bullet  2014-01-01  \n",
       "3          irregular  2014-01-01  \n",
       "4            monthly  2014-01-01  "
      ]
     },
     "execution_count": 252,
     "metadata": {},
     "output_type": "execute_result"
    }
   ],
   "source": [
    "#Can we predict how long it will take for a loan to get funded?\n",
    "#to make that prediction, I'm using loan amount, payment terms, country, and sector\n",
    "#data is from kaggle\n",
    "#https://www.kaggle.com/kiva/data-science-for-good-kiva-crowdfunding#loan_themes_by_region.csv\n",
    "\n",
    "kiva_data = r'kiva_loans.csv'\n",
    "loans = pd.read_csv(kiva_data)\n",
    "loans.head()"
   ]
  },
  {
   "cell_type": "markdown",
   "metadata": {},
   "source": [
    "### Data exploration"
   ]
  },
  {
   "cell_type": "code",
   "execution_count": 253,
   "metadata": {},
   "outputs": [
    {
     "name": "stdout",
     "output_type": "stream",
     "text": [
      "posted time count 671205\n",
      "posted time # null 0\n",
      "funded time count (671205,)\n",
      "funded time #null 48331\n"
     ]
    }
   ],
   "source": [
    "loans.posted_time.describe()\n",
    "print (\"posted time count\", loans.posted_time.count())\n",
    "print (\"posted time # null\", loans.posted_time.isnull().sum())\n",
    "print (\"funded time count\", loans.funded_time.shape)\n",
    "print (\"funded time #null\", loans.funded_time.isnull().sum())"
   ]
  },
  {
   "cell_type": "code",
   "execution_count": 254,
   "metadata": {},
   "outputs": [
    {
     "name": "stdout",
     "output_type": "stream",
     "text": [
      "Number of loans not funded 48331\n",
      "Loans not funded percent 0.07759354219312413\n"
     ]
    }
   ],
   "source": [
    "not_funded = (loans.funded_time.isnull()==True).sum()\n",
    "not_funded_percent = not_funded / loans.funded_time.count()\n",
    "print(\"Number of loans not funded\", not_funded)\n",
    "print(\"Loans not funded percent\", not_funded_percent)"
   ]
  },
  {
   "cell_type": "code",
   "execution_count": 255,
   "metadata": {},
   "outputs": [],
   "source": [
    "loans = loans[loans.funded_time.notnull()]\n",
    "loans = loans[loans.posted_time.notnull()]\n",
    "\n",
    "# removee at end of project for testing\n",
    "loans = loans[0:1000]"
   ]
  },
  {
   "cell_type": "code",
   "execution_count": 256,
   "metadata": {},
   "outputs": [
    {
     "data": {
      "text/plain": [
       "(1000, 20)"
      ]
     },
     "execution_count": 256,
     "metadata": {},
     "output_type": "execute_result"
    }
   ],
   "source": [
    "loans.shape"
   ]
  },
  {
   "cell_type": "code",
   "execution_count": 257,
   "metadata": {},
   "outputs": [
    {
     "data": {
      "text/plain": [
       "Timedelta('8 days 06:07:07.472000')"
      ]
     },
     "execution_count": 257,
     "metadata": {},
     "output_type": "execute_result"
    }
   ],
   "source": [
    "posted_time = pd.to_datetime(loans.posted_time)\n",
    "funded_time = pd.to_datetime(loans.funded_time)\n",
    "days_to_fund_loan = funded_time - posted_time \n",
    "days_mean = days_to_fund_loan.mean()\n",
    "days_mean"
   ]
  },
  {
   "cell_type": "code",
   "execution_count": 258,
   "metadata": {},
   "outputs": [
    {
     "data": {
      "text/plain": [
       "Timedelta('116 days 12:42:43')"
      ]
     },
     "execution_count": 258,
     "metadata": {},
     "output_type": "execute_result"
    }
   ],
   "source": [
    "max_days = (pd.to_datetime(loans.funded_time) - pd.to_datetime(loans.posted_time)).max()\n",
    "max_days"
   ]
  },
  {
   "cell_type": "code",
   "execution_count": 259,
   "metadata": {},
   "outputs": [],
   "source": [
    "loans['days_to_fund_loan']= pd.to_datetime(loans.funded_time) - pd.to_datetime(loans.posted_time)"
   ]
  },
  {
   "cell_type": "code",
   "execution_count": 260,
   "metadata": {},
   "outputs": [
    {
     "data": {
      "text/html": [
       "<div>\n",
       "<style scoped>\n",
       "    .dataframe tbody tr th:only-of-type {\n",
       "        vertical-align: middle;\n",
       "    }\n",
       "\n",
       "    .dataframe tbody tr th {\n",
       "        vertical-align: top;\n",
       "    }\n",
       "\n",
       "    .dataframe thead th {\n",
       "        text-align: right;\n",
       "    }\n",
       "</style>\n",
       "<table border=\"1\" class=\"dataframe\">\n",
       "  <thead>\n",
       "    <tr style=\"text-align: right;\">\n",
       "      <th></th>\n",
       "      <th>id</th>\n",
       "      <th>funded_amount</th>\n",
       "      <th>loan_amount</th>\n",
       "      <th>activity</th>\n",
       "      <th>sector</th>\n",
       "      <th>use</th>\n",
       "      <th>country_code</th>\n",
       "      <th>country</th>\n",
       "      <th>region</th>\n",
       "      <th>currency</th>\n",
       "      <th>...</th>\n",
       "      <th>disbursed_time</th>\n",
       "      <th>funded_time</th>\n",
       "      <th>term_in_months</th>\n",
       "      <th>lender_count</th>\n",
       "      <th>tags</th>\n",
       "      <th>borrower_genders</th>\n",
       "      <th>repayment_interval</th>\n",
       "      <th>date</th>\n",
       "      <th>days_to_fund_loan</th>\n",
       "      <th>days_to_fund_new</th>\n",
       "    </tr>\n",
       "  </thead>\n",
       "  <tbody>\n",
       "    <tr>\n",
       "      <th>0</th>\n",
       "      <td>653051</td>\n",
       "      <td>300.0</td>\n",
       "      <td>300.0</td>\n",
       "      <td>Fruits &amp; Vegetables</td>\n",
       "      <td>Food</td>\n",
       "      <td>To buy seasonal, fresh fruits to sell.</td>\n",
       "      <td>PK</td>\n",
       "      <td>Pakistan</td>\n",
       "      <td>Lahore</td>\n",
       "      <td>PKR</td>\n",
       "      <td>...</td>\n",
       "      <td>2013-12-17 08:00:00+00:00</td>\n",
       "      <td>2014-01-02 10:06:32+00:00</td>\n",
       "      <td>12.0</td>\n",
       "      <td>12</td>\n",
       "      <td>NaN</td>\n",
       "      <td>female</td>\n",
       "      <td>irregular</td>\n",
       "      <td>2014-01-01</td>\n",
       "      <td>1 days 03:53:53</td>\n",
       "      <td>1</td>\n",
       "    </tr>\n",
       "    <tr>\n",
       "      <th>1</th>\n",
       "      <td>653053</td>\n",
       "      <td>575.0</td>\n",
       "      <td>575.0</td>\n",
       "      <td>Rickshaw</td>\n",
       "      <td>Transportation</td>\n",
       "      <td>to repair and maintain the auto rickshaw used ...</td>\n",
       "      <td>PK</td>\n",
       "      <td>Pakistan</td>\n",
       "      <td>Lahore</td>\n",
       "      <td>PKR</td>\n",
       "      <td>...</td>\n",
       "      <td>2013-12-17 08:00:00+00:00</td>\n",
       "      <td>2014-01-02 09:17:23+00:00</td>\n",
       "      <td>11.0</td>\n",
       "      <td>14</td>\n",
       "      <td>NaN</td>\n",
       "      <td>female, female</td>\n",
       "      <td>irregular</td>\n",
       "      <td>2014-01-01</td>\n",
       "      <td>1 days 02:26:15</td>\n",
       "      <td>1</td>\n",
       "    </tr>\n",
       "    <tr>\n",
       "      <th>2</th>\n",
       "      <td>653068</td>\n",
       "      <td>150.0</td>\n",
       "      <td>150.0</td>\n",
       "      <td>Transportation</td>\n",
       "      <td>Transportation</td>\n",
       "      <td>To repair their old cycle-van and buy another ...</td>\n",
       "      <td>IN</td>\n",
       "      <td>India</td>\n",
       "      <td>Maynaguri</td>\n",
       "      <td>INR</td>\n",
       "      <td>...</td>\n",
       "      <td>2013-12-17 08:00:00+00:00</td>\n",
       "      <td>2014-01-01 16:01:36+00:00</td>\n",
       "      <td>43.0</td>\n",
       "      <td>6</td>\n",
       "      <td>user_favorite, user_favorite</td>\n",
       "      <td>female</td>\n",
       "      <td>bullet</td>\n",
       "      <td>2014-01-01</td>\n",
       "      <td>0 days 06:03:29</td>\n",
       "      <td>0</td>\n",
       "    </tr>\n",
       "    <tr>\n",
       "      <th>3</th>\n",
       "      <td>653063</td>\n",
       "      <td>200.0</td>\n",
       "      <td>200.0</td>\n",
       "      <td>Embroidery</td>\n",
       "      <td>Arts</td>\n",
       "      <td>to purchase an embroidery machine and a variet...</td>\n",
       "      <td>PK</td>\n",
       "      <td>Pakistan</td>\n",
       "      <td>Lahore</td>\n",
       "      <td>PKR</td>\n",
       "      <td>...</td>\n",
       "      <td>2013-12-24 08:00:00+00:00</td>\n",
       "      <td>2014-01-01 13:00:00+00:00</td>\n",
       "      <td>11.0</td>\n",
       "      <td>8</td>\n",
       "      <td>NaN</td>\n",
       "      <td>female</td>\n",
       "      <td>irregular</td>\n",
       "      <td>2014-01-01</td>\n",
       "      <td>0 days 04:56:49</td>\n",
       "      <td>0</td>\n",
       "    </tr>\n",
       "    <tr>\n",
       "      <th>4</th>\n",
       "      <td>653084</td>\n",
       "      <td>400.0</td>\n",
       "      <td>400.0</td>\n",
       "      <td>Milk Sales</td>\n",
       "      <td>Food</td>\n",
       "      <td>to purchase one buffalo.</td>\n",
       "      <td>PK</td>\n",
       "      <td>Pakistan</td>\n",
       "      <td>Abdul Hakeem</td>\n",
       "      <td>PKR</td>\n",
       "      <td>...</td>\n",
       "      <td>2013-12-17 08:00:00+00:00</td>\n",
       "      <td>2014-01-01 19:18:51+00:00</td>\n",
       "      <td>14.0</td>\n",
       "      <td>16</td>\n",
       "      <td>NaN</td>\n",
       "      <td>female</td>\n",
       "      <td>monthly</td>\n",
       "      <td>2014-01-01</td>\n",
       "      <td>0 days 07:25:32</td>\n",
       "      <td>0</td>\n",
       "    </tr>\n",
       "  </tbody>\n",
       "</table>\n",
       "<p>5 rows × 22 columns</p>\n",
       "</div>"
      ],
      "text/plain": [
       "       id  funded_amount  loan_amount             activity          sector  \\\n",
       "0  653051          300.0        300.0  Fruits & Vegetables            Food   \n",
       "1  653053          575.0        575.0             Rickshaw  Transportation   \n",
       "2  653068          150.0        150.0       Transportation  Transportation   \n",
       "3  653063          200.0        200.0           Embroidery            Arts   \n",
       "4  653084          400.0        400.0           Milk Sales            Food   \n",
       "\n",
       "                                                 use country_code   country  \\\n",
       "0            To buy seasonal, fresh fruits to sell.            PK  Pakistan   \n",
       "1  to repair and maintain the auto rickshaw used ...           PK  Pakistan   \n",
       "2  To repair their old cycle-van and buy another ...           IN     India   \n",
       "3  to purchase an embroidery machine and a variet...           PK  Pakistan   \n",
       "4                           to purchase one buffalo.           PK  Pakistan   \n",
       "\n",
       "         region currency       ...                    disbursed_time  \\\n",
       "0        Lahore      PKR       ...         2013-12-17 08:00:00+00:00   \n",
       "1        Lahore      PKR       ...         2013-12-17 08:00:00+00:00   \n",
       "2     Maynaguri      INR       ...         2013-12-17 08:00:00+00:00   \n",
       "3        Lahore      PKR       ...         2013-12-24 08:00:00+00:00   \n",
       "4  Abdul Hakeem      PKR       ...         2013-12-17 08:00:00+00:00   \n",
       "\n",
       "                 funded_time term_in_months lender_count  \\\n",
       "0  2014-01-02 10:06:32+00:00           12.0           12   \n",
       "1  2014-01-02 09:17:23+00:00           11.0           14   \n",
       "2  2014-01-01 16:01:36+00:00           43.0            6   \n",
       "3  2014-01-01 13:00:00+00:00           11.0            8   \n",
       "4  2014-01-01 19:18:51+00:00           14.0           16   \n",
       "\n",
       "                           tags  borrower_genders repayment_interval  \\\n",
       "0                           NaN            female          irregular   \n",
       "1                           NaN    female, female          irregular   \n",
       "2  user_favorite, user_favorite            female             bullet   \n",
       "3                           NaN            female          irregular   \n",
       "4                           NaN            female            monthly   \n",
       "\n",
       "         date days_to_fund_loan days_to_fund_new  \n",
       "0  2014-01-01   1 days 03:53:53                1  \n",
       "1  2014-01-01   1 days 02:26:15                1  \n",
       "2  2014-01-01   0 days 06:03:29                0  \n",
       "3  2014-01-01   0 days 04:56:49                0  \n",
       "4  2014-01-01   0 days 07:25:32                0  \n",
       "\n",
       "[5 rows x 22 columns]"
      ]
     },
     "execution_count": 260,
     "metadata": {},
     "output_type": "execute_result"
    }
   ],
   "source": [
    "new_dates = []\n",
    "for d in loans.days_to_fund_loan:\n",
    "    new_dates.append(d.days)\n",
    "\n",
    "loans['days_to_fund_new'] = new_dates\n",
    "\n",
    "loans.head()"
   ]
  },
  {
   "cell_type": "markdown",
   "metadata": {},
   "source": [
    "### Feature Engineering"
   ]
  },
  {
   "cell_type": "code",
   "execution_count": 261,
   "metadata": {},
   "outputs": [
    {
     "data": {
      "text/html": [
       "<div>\n",
       "<style scoped>\n",
       "    .dataframe tbody tr th:only-of-type {\n",
       "        vertical-align: middle;\n",
       "    }\n",
       "\n",
       "    .dataframe tbody tr th {\n",
       "        vertical-align: top;\n",
       "    }\n",
       "\n",
       "    .dataframe thead th {\n",
       "        text-align: right;\n",
       "    }\n",
       "</style>\n",
       "<table border=\"1\" class=\"dataframe\">\n",
       "  <thead>\n",
       "    <tr style=\"text-align: right;\">\n",
       "      <th></th>\n",
       "      <th>id</th>\n",
       "      <th>funded_amount</th>\n",
       "      <th>loan_amount</th>\n",
       "      <th>activity</th>\n",
       "      <th>sector</th>\n",
       "      <th>use</th>\n",
       "      <th>country_code</th>\n",
       "      <th>country</th>\n",
       "      <th>region</th>\n",
       "      <th>currency</th>\n",
       "      <th>...</th>\n",
       "      <th>sector_Education</th>\n",
       "      <th>sector_Food</th>\n",
       "      <th>sector_Health</th>\n",
       "      <th>sector_Housing</th>\n",
       "      <th>sector_Manufacturing</th>\n",
       "      <th>sector_Personal Use</th>\n",
       "      <th>sector_Retail</th>\n",
       "      <th>sector_Services</th>\n",
       "      <th>sector_Transportation</th>\n",
       "      <th>sector_Wholesale</th>\n",
       "    </tr>\n",
       "  </thead>\n",
       "  <tbody>\n",
       "    <tr>\n",
       "      <th>0</th>\n",
       "      <td>653051</td>\n",
       "      <td>300.0</td>\n",
       "      <td>300.0</td>\n",
       "      <td>Fruits &amp; Vegetables</td>\n",
       "      <td>Food</td>\n",
       "      <td>To buy seasonal, fresh fruits to sell.</td>\n",
       "      <td>PK</td>\n",
       "      <td>Pakistan</td>\n",
       "      <td>Lahore</td>\n",
       "      <td>PKR</td>\n",
       "      <td>...</td>\n",
       "      <td>0</td>\n",
       "      <td>1</td>\n",
       "      <td>0</td>\n",
       "      <td>0</td>\n",
       "      <td>0</td>\n",
       "      <td>0</td>\n",
       "      <td>0</td>\n",
       "      <td>0</td>\n",
       "      <td>0</td>\n",
       "      <td>0</td>\n",
       "    </tr>\n",
       "    <tr>\n",
       "      <th>1</th>\n",
       "      <td>653053</td>\n",
       "      <td>575.0</td>\n",
       "      <td>575.0</td>\n",
       "      <td>Rickshaw</td>\n",
       "      <td>Transportation</td>\n",
       "      <td>to repair and maintain the auto rickshaw used ...</td>\n",
       "      <td>PK</td>\n",
       "      <td>Pakistan</td>\n",
       "      <td>Lahore</td>\n",
       "      <td>PKR</td>\n",
       "      <td>...</td>\n",
       "      <td>0</td>\n",
       "      <td>0</td>\n",
       "      <td>0</td>\n",
       "      <td>0</td>\n",
       "      <td>0</td>\n",
       "      <td>0</td>\n",
       "      <td>0</td>\n",
       "      <td>0</td>\n",
       "      <td>1</td>\n",
       "      <td>0</td>\n",
       "    </tr>\n",
       "    <tr>\n",
       "      <th>2</th>\n",
       "      <td>653068</td>\n",
       "      <td>150.0</td>\n",
       "      <td>150.0</td>\n",
       "      <td>Transportation</td>\n",
       "      <td>Transportation</td>\n",
       "      <td>To repair their old cycle-van and buy another ...</td>\n",
       "      <td>IN</td>\n",
       "      <td>India</td>\n",
       "      <td>Maynaguri</td>\n",
       "      <td>INR</td>\n",
       "      <td>...</td>\n",
       "      <td>0</td>\n",
       "      <td>0</td>\n",
       "      <td>0</td>\n",
       "      <td>0</td>\n",
       "      <td>0</td>\n",
       "      <td>0</td>\n",
       "      <td>0</td>\n",
       "      <td>0</td>\n",
       "      <td>1</td>\n",
       "      <td>0</td>\n",
       "    </tr>\n",
       "    <tr>\n",
       "      <th>3</th>\n",
       "      <td>653063</td>\n",
       "      <td>200.0</td>\n",
       "      <td>200.0</td>\n",
       "      <td>Embroidery</td>\n",
       "      <td>Arts</td>\n",
       "      <td>to purchase an embroidery machine and a variet...</td>\n",
       "      <td>PK</td>\n",
       "      <td>Pakistan</td>\n",
       "      <td>Lahore</td>\n",
       "      <td>PKR</td>\n",
       "      <td>...</td>\n",
       "      <td>0</td>\n",
       "      <td>0</td>\n",
       "      <td>0</td>\n",
       "      <td>0</td>\n",
       "      <td>0</td>\n",
       "      <td>0</td>\n",
       "      <td>0</td>\n",
       "      <td>0</td>\n",
       "      <td>0</td>\n",
       "      <td>0</td>\n",
       "    </tr>\n",
       "    <tr>\n",
       "      <th>4</th>\n",
       "      <td>653084</td>\n",
       "      <td>400.0</td>\n",
       "      <td>400.0</td>\n",
       "      <td>Milk Sales</td>\n",
       "      <td>Food</td>\n",
       "      <td>to purchase one buffalo.</td>\n",
       "      <td>PK</td>\n",
       "      <td>Pakistan</td>\n",
       "      <td>Abdul Hakeem</td>\n",
       "      <td>PKR</td>\n",
       "      <td>...</td>\n",
       "      <td>0</td>\n",
       "      <td>1</td>\n",
       "      <td>0</td>\n",
       "      <td>0</td>\n",
       "      <td>0</td>\n",
       "      <td>0</td>\n",
       "      <td>0</td>\n",
       "      <td>0</td>\n",
       "      <td>0</td>\n",
       "      <td>0</td>\n",
       "    </tr>\n",
       "  </tbody>\n",
       "</table>\n",
       "<p>5 rows × 164 columns</p>\n",
       "</div>"
      ],
      "text/plain": [
       "       id  funded_amount  loan_amount             activity          sector  \\\n",
       "0  653051          300.0        300.0  Fruits & Vegetables            Food   \n",
       "1  653053          575.0        575.0             Rickshaw  Transportation   \n",
       "2  653068          150.0        150.0       Transportation  Transportation   \n",
       "3  653063          200.0        200.0           Embroidery            Arts   \n",
       "4  653084          400.0        400.0           Milk Sales            Food   \n",
       "\n",
       "                                                 use country_code   country  \\\n",
       "0            To buy seasonal, fresh fruits to sell.            PK  Pakistan   \n",
       "1  to repair and maintain the auto rickshaw used ...           PK  Pakistan   \n",
       "2  To repair their old cycle-van and buy another ...           IN     India   \n",
       "3  to purchase an embroidery machine and a variet...           PK  Pakistan   \n",
       "4                           to purchase one buffalo.           PK  Pakistan   \n",
       "\n",
       "         region currency       ...         sector_Education sector_Food  \\\n",
       "0        Lahore      PKR       ...                        0           1   \n",
       "1        Lahore      PKR       ...                        0           0   \n",
       "2     Maynaguri      INR       ...                        0           0   \n",
       "3        Lahore      PKR       ...                        0           0   \n",
       "4  Abdul Hakeem      PKR       ...                        0           1   \n",
       "\n",
       "  sector_Health sector_Housing  sector_Manufacturing  sector_Personal Use  \\\n",
       "0             0              0                     0                    0   \n",
       "1             0              0                     0                    0   \n",
       "2             0              0                     0                    0   \n",
       "3             0              0                     0                    0   \n",
       "4             0              0                     0                    0   \n",
       "\n",
       "  sector_Retail sector_Services sector_Transportation sector_Wholesale  \n",
       "0             0               0                     0                0  \n",
       "1             0               0                     1                0  \n",
       "2             0               0                     1                0  \n",
       "3             0               0                     0                0  \n",
       "4             0               0                     0                0  \n",
       "\n",
       "[5 rows x 164 columns]"
      ]
     },
     "execution_count": 261,
     "metadata": {},
     "output_type": "execute_result"
    }
   ],
   "source": [
    "# create dummy variables for categorical features\n",
    "country_cols = pd.get_dummies(loans.country, prefix='country')\n",
    "activity_cols = pd.get_dummies(loans.activity, prefix='activity')\n",
    "sector_cols = pd.get_dummies(loans.sector, prefix='sector')\n",
    "\n",
    "# combine all dummy variables into a single dataframe\n",
    "loans = pd.concat([loans,country_cols, activity_cols, sector_cols], axis=1)\n",
    "loans.head()"
   ]
  },
  {
   "cell_type": "code",
   "execution_count": 262,
   "metadata": {},
   "outputs": [
    {
     "data": {
      "text/plain": [
       "(1000, 164)"
      ]
     },
     "execution_count": 262,
     "metadata": {},
     "output_type": "execute_result"
    }
   ],
   "source": [
    "#loans.posted_time.isnull().sum()\n",
    "#loans.funded_time.isnull().sum()\n",
    "loans.shape"
   ]
  },
  {
   "cell_type": "code",
   "execution_count": 263,
   "metadata": {},
   "outputs": [
    {
     "data": {
      "text/plain": [
       "count      1000\n",
       "unique       36\n",
       "top       Kenya\n",
       "freq        155\n",
       "Name: country, dtype: object"
      ]
     },
     "execution_count": 263,
     "metadata": {},
     "output_type": "execute_result"
    }
   ],
   "source": [
    "loans.country.describe()"
   ]
  },
  {
   "cell_type": "code",
   "execution_count": 264,
   "metadata": {},
   "outputs": [],
   "source": [
    "country_names = [col for col in loans.columns if col.startswith('country')]\n",
    "activity_names = [col for col in loans.columns if col.startswith('activity')]\n",
    "sector_names = [col for col in loans.columns if col.startswith('sector')]"
   ]
  },
  {
   "cell_type": "code",
   "execution_count": 265,
   "metadata": {},
   "outputs": [],
   "source": [
    "#The original column header country, activity, and sector were brought into these new variables. \n",
    "#Need to remove those headers, so we have a list of countries, activities, and sectors.\n",
    "\n",
    "country_names = country_names[2:]\n",
    "activity_names = activity_names[1:]\n",
    "sector_names = sector_names[1:]"
   ]
  },
  {
   "cell_type": "markdown",
   "metadata": {},
   "source": [
    "#### Visualizations"
   ]
  },
  {
   "cell_type": "code",
   "execution_count": 266,
   "metadata": {},
   "outputs": [
    {
     "data": {
      "text/plain": [
       "<matplotlib.axes._subplots.AxesSubplot at 0x1a1903dac8>"
      ]
     },
     "execution_count": 266,
     "metadata": {},
     "output_type": "execute_result"
    },
    {
     "data": {
      "image/png": "[encoded data removed]",
      "text/plain": [
       "<Figure size 432x288 with 1 Axes>"
      ]
     },
     "metadata": {},
     "output_type": "display_data"
    }
   ],
   "source": [
    "loans['days_to_fund_new'].plot.hist(bins=200)"
   ]
  },
  {
   "cell_type": "code",
   "execution_count": 267,
   "metadata": {},
   "outputs": [
    {
     "data": {
      "image/png": "[encoded data removed]",
      "text/plain": [
       "<Figure size 360x180 with 2 Axes>"
      ]
     },
     "metadata": {},
     "output_type": "display_data"
    }
   ],
   "source": [
    "feature_cols = ['loan_amount','term_in_months']\n",
    "sns.pairplot(loans, x_vars=feature_cols, \n",
    "             y_vars='days_to_fund_new', kind='reg');"
   ]
  },
  {
   "cell_type": "code",
   "execution_count": 268,
   "metadata": {},
   "outputs": [
    {
     "data": {
      "image/png": "[encoded data removed]",
      "text/plain": [
       "<Figure size 2520x180 with 14 Axes>"
      ]
     },
     "metadata": {},
     "output_type": "display_data"
    }
   ],
   "source": [
    "sns.pairplot(data=loans, x_vars=sector_names, y_vars='days_to_fund_new');"
   ]
  },
  {
   "cell_type": "markdown",
   "metadata": {},
   "source": [
    "### Linear Regression models"
   ]
  },
  {
   "cell_type": "code",
   "execution_count": 269,
   "metadata": {},
   "outputs": [
    {
     "data": {
      "text/plain": [
       "11.140159624125095"
      ]
     },
     "execution_count": 269,
     "metadata": {},
     "output_type": "execute_result"
    }
   ],
   "source": [
    "##Linear Regression using loan amount\n",
    "feature_cols = ['loan_amount']\n",
    "X = loans[feature_cols]\n",
    "y = loans.days_to_fund_new\n",
    "\n",
    "X_train, X_test, y_train, y_test = train_test_split(X, y, random_state=42)\n",
    "\n",
    "linreg = LinearRegression()\n",
    "linreg.fit(X_train, y_train)\n",
    "prediction = linreg.predict(X_test)\n",
    "\n",
    "\n",
    "mse = metrics.mean_squared_error(prediction, y_test)\n",
    "np.sqrt(mse)"
   ]
  },
  {
   "cell_type": "code",
   "execution_count": 270,
   "metadata": {},
   "outputs": [
    {
     "name": "stdout",
     "output_type": "stream",
     "text": [
      "4.661810571465637\n",
      "[0.00373886]\n"
     ]
    }
   ],
   "source": [
    "# print the coefficients\n",
    "print(linreg.intercept_)\n",
    "print(linreg.coef_)"
   ]
  },
  {
   "cell_type": "code",
   "execution_count": 271,
   "metadata": {},
   "outputs": [
    {
     "data": {
      "text/plain": [
       "array([8.40066612])"
      ]
     },
     "execution_count": 271,
     "metadata": {},
     "output_type": "execute_result"
    }
   ],
   "source": [
    "linreg.predict(1000)"
   ]
  },
  {
   "cell_type": "code",
   "execution_count": 272,
   "metadata": {},
   "outputs": [],
   "source": [
    "#Linear Regression using Loan Amount and Terms in month (for repayment)"
   ]
  },
  {
   "cell_type": "code",
   "execution_count": 273,
   "metadata": {},
   "outputs": [
    {
     "data": {
      "text/plain": [
       "11.151556379671513"
      ]
     },
     "execution_count": 273,
     "metadata": {},
     "output_type": "execute_result"
    }
   ],
   "source": [
    "feature_cols = ['loan_amount','term_in_months']\n",
    "X = loans[feature_cols]\n",
    "y = loans.days_to_fund_new\n",
    "\n",
    "X_train, X_test, y_train, y_test = train_test_split(X, y, random_state=42)\n",
    "\n",
    "linreg = LinearRegression()\n",
    "linreg.fit(X_train, y_train)\n",
    "prediction = linreg.predict(X_test)\n",
    "\n",
    "\n",
    "mse = metrics.mean_squared_error(prediction, y_test)\n",
    "np.sqrt(mse)"
   ]
  },
  {
   "cell_type": "markdown",
   "metadata": {},
   "source": [
    "### Adding more features to the regression model"
   ]
  },
  {
   "cell_type": "code",
   "execution_count": 274,
   "metadata": {},
   "outputs": [
    {
     "data": {
      "text/plain": [
       "['loan_amount',\n",
       " 'term_in_months',\n",
       " 'sector_Agriculture',\n",
       " 'sector_Arts',\n",
       " 'sector_Clothing',\n",
       " 'sector_Construction',\n",
       " 'sector_Education',\n",
       " 'sector_Food',\n",
       " 'sector_Health',\n",
       " 'sector_Housing',\n",
       " 'sector_Manufacturing',\n",
       " 'sector_Personal Use',\n",
       " 'sector_Retail',\n",
       " 'sector_Services',\n",
       " 'sector_Transportation',\n",
       " 'sector_Wholesale']"
      ]
     },
     "execution_count": 274,
     "metadata": {},
     "output_type": "execute_result"
    }
   ],
   "source": [
    "feature_cols = []\n",
    "feature_cols = ['loan_amount','term_in_months']\n",
    "feature_cols.extend(sector_names)\n",
    "feature_cols"
   ]
  },
  {
   "cell_type": "code",
   "execution_count": 275,
   "metadata": {},
   "outputs": [
    {
     "data": {
      "text/plain": [
       "10.92910947948856"
      ]
     },
     "execution_count": 275,
     "metadata": {},
     "output_type": "execute_result"
    }
   ],
   "source": [
    "X = loans[feature_cols]\n",
    "y = loans.days_to_fund_new\n",
    "\n",
    "X_train, X_test, y_train, y_test = train_test_split(X, y, random_state=42)\n",
    "\n",
    "linreg = LinearRegression()\n",
    "linreg.fit(X_train, y_train)\n",
    "prediction = linreg.predict(X_test)\n",
    "\n",
    "mse = metrics.mean_squared_error(prediction, y_test)\n",
    "np.sqrt(mse)"
   ]
  },
  {
   "cell_type": "code",
   "execution_count": 291,
   "metadata": {},
   "outputs": [
    {
     "data": {
      "text/plain": [
       "['loan_amount',\n",
       " 'term_in_months',\n",
       " 'sector_Agriculture',\n",
       " 'sector_Arts',\n",
       " 'sector_Clothing',\n",
       " 'sector_Construction',\n",
       " 'sector_Education',\n",
       " 'sector_Food',\n",
       " 'sector_Health',\n",
       " 'sector_Housing',\n",
       " 'sector_Manufacturing',\n",
       " 'sector_Personal Use',\n",
       " 'sector_Retail',\n",
       " 'sector_Services',\n",
       " 'sector_Transportation',\n",
       " 'sector_Wholesale',\n",
       " 'country_Bolivia',\n",
       " 'country_Burkina Faso',\n",
       " 'country_Burundi',\n",
       " 'country_Cambodia',\n",
       " 'country_Chile',\n",
       " 'country_Colombia',\n",
       " 'country_Ecuador',\n",
       " 'country_El Salvador',\n",
       " 'country_Georgia',\n",
       " 'country_Ghana',\n",
       " 'country_Guatemala',\n",
       " 'country_Haiti',\n",
       " 'country_Honduras',\n",
       " 'country_India',\n",
       " 'country_Indonesia',\n",
       " 'country_Iraq',\n",
       " 'country_Jordan',\n",
       " 'country_Kenya',\n",
       " 'country_Liberia',\n",
       " 'country_Mali',\n",
       " 'country_Mongolia',\n",
       " 'country_Nicaragua',\n",
       " 'country_Pakistan',\n",
       " 'country_Palestine',\n",
       " 'country_Peru',\n",
       " 'country_Philippines',\n",
       " 'country_Senegal',\n",
       " 'country_Sierra Leone',\n",
       " 'country_Tajikistan',\n",
       " 'country_Tanzania',\n",
       " 'country_Timor-Leste',\n",
       " 'country_Uganda',\n",
       " 'country_Ukraine',\n",
       " 'country_United States',\n",
       " 'country_Vietnam',\n",
       " 'country_Yemen']"
      ]
     },
     "execution_count": 291,
     "metadata": {},
     "output_type": "execute_result"
    }
   ],
   "source": [
    "feature_cols = []\n",
    "feature_cols = ['loan_amount','term_in_months']\n",
    "feature_cols.extend(sector_names)\n",
    "feature_cols.extend(country_names)\n",
    "feature_cols"
   ]
  },
  {
   "cell_type": "code",
   "execution_count": 292,
   "metadata": {},
   "outputs": [
    {
     "data": {
      "text/plain": [
       "9.748970732727178"
      ]
     },
     "execution_count": 292,
     "metadata": {},
     "output_type": "execute_result"
    }
   ],
   "source": [
    "X = loans[feature_cols]\n",
    "y = loans.days_to_fund_new\n",
    "\n",
    "X_train, X_test, y_train, y_test = train_test_split(X, y, random_state=42)\n",
    "\n",
    "#linear regression on loan amount, terms in months, country and activity\n",
    "linreg = LinearRegression()\n",
    "linreg.fit(X_train, y_train)\n",
    "prediction = linreg.predict(X_test)\n",
    "\n",
    "mse = metrics.mean_squared_error(prediction, y_test)\n",
    "np.sqrt(mse)"
   ]
  },
  {
   "cell_type": "markdown",
   "metadata": {},
   "source": [
    "### Standard Scaler model"
   ]
  },
  {
   "cell_type": "code",
   "execution_count": 293,
   "metadata": {},
   "outputs": [],
   "source": [
    "# standardize the features\n",
    "scaler = StandardScaler()\n",
    "\n",
    "feature_cols  #loan_amount, term_in_months, sector, and country\n",
    "X = loans[feature_cols]\n",
    "y = loans.days_to_fund_new"
   ]
  },
  {
   "cell_type": "code",
   "execution_count": 294,
   "metadata": {},
   "outputs": [],
   "source": [
    "# split into training and testing sets\n",
    "X_train, X_test, y_train, y_test = train_test_split(X, y, random_state=1)\n",
    "\n",
    "# standardize X_train\n",
    "scaler.fit(X_train)\n",
    "X_train_scaled = scaler.transform(X_train)"
   ]
  },
  {
   "cell_type": "code",
   "execution_count": 295,
   "metadata": {},
   "outputs": [
    {
     "name": "stdout",
     "output_type": "stream",
     "text": [
      "-4.0264088359739013e-17\n",
      "1.0\n",
      "-8.763360407707902e-17\n",
      "0.9999999999999998\n"
     ]
    }
   ],
   "source": [
    "# check that it standardized properly\n",
    "print(X_train_scaled[:, 0].mean())\n",
    "print(X_train_scaled[:, 0].std())\n",
    "print(X_train_scaled[:, 1].mean())\n",
    "print(X_train_scaled[:, 1].std())"
   ]
  },
  {
   "cell_type": "code",
   "execution_count": 296,
   "metadata": {},
   "outputs": [],
   "source": [
    "# standardize X_test\n",
    "X_test_scaled = scaler.transform(X_test)"
   ]
  },
  {
   "cell_type": "code",
   "execution_count": 297,
   "metadata": {},
   "outputs": [
    {
     "name": "stdout",
     "output_type": "stream",
     "text": [
      "-0.005147705193426482\n",
      "1.0543134494690183\n",
      "0.04244583146994212\n",
      "0.9913740832304234\n"
     ]
    }
   ],
   "source": [
    "# is this right?\n",
    "print(X_test_scaled[:, 0].mean())\n",
    "print(X_test_scaled[:, 0].std())\n",
    "print(X_test_scaled[:, 1].mean())\n",
    "print(X_test_scaled[:, 1].std())"
   ]
  },
  {
   "cell_type": "code",
   "execution_count": 298,
   "metadata": {},
   "outputs": [
    {
     "data": {
      "text/plain": [
       "array([ 0.5, 13.5,  3.5, 32. ,  0. ,  0. ,  0. , 15. , 16.5,  3.5,  9.5,\n",
       "       17. ,  0. ,  7. ,  6. , 26. ,  0.5,  0.5,  3. , 91.5, 26. , 11.5,\n",
       "        7.5, 31.5, 16.5,  1. , 14.5, 26. ,  0. ,  8. ,  4. ,  1.5, 15.5,\n",
       "        0.5,  1.5, 15. , 16.5,  2. ,  0.5,  0.5,  0.5,  0. ,  5.5, 12.5,\n",
       "        2.5, 15.5, 13.5,  0. ,  1. ,  0. ,  6.5,  1. ,  0. , 14. ,  0.5,\n",
       "       17. ,  7. ,  0. ,  0. , 24. , 20. , 12. ,  0. , 15. ,  1. , 18. ,\n",
       "        3. ,  6. ,  3. ,  1. ,  0.5, 20. ,  4. , 20.5,  0.5,  0. ,  1. ,\n",
       "       15.5,  0. ,  2. ,  1. , 10.5,  2. , 26. ,  1.5, 22.5,  5.5, 17.5,\n",
       "       12.5, 15.5, 10. ,  1. ,  2. , 18.5,  3. ,  0. ,  0. ,  0. ,  3. ,\n",
       "        1. ,  0. ,  3.5,  0. ,  1. ,  0. , 12.5,  0. , 26. ,  3. ,  1.5,\n",
       "        5.5, 25. , 18.5,  5. , 34. ,  0. ,  0. ,  1. ,  1. ,  8.5, 19. ,\n",
       "        0. ,  0. ,  0. ,  0.5,  5.5,  0. , 13. ,  9.5, 24.5,  0.5,  6. ,\n",
       "       13.5,  0. ,  0. , 27.5,  0. , 12.5,  1. ,  0. ,  1. ,  0. , 21.5,\n",
       "        0. ,  0.5,  0. ,  1. , 13. , 14. , 15.5,  0. , 25. ,  1.5, 32. ,\n",
       "        0. ,  0.5,  3.5, 13. ,  0.5,  2. ,  1.5,  8. ,  1.5,  0.5,  0. ,\n",
       "        9.5,  2. , 13.5, 13.5,  4. ,  0. , 17.5,  0. ,  0. ,  1. ,  5.5,\n",
       "        0. ,  2. , 18. ,  7. ,  0. ,  5. , 20.5,  3. ,  1. ,  2.5,  0. ,\n",
       "       15.5,  0. ,  0. , 10. , 24.5,  0. , 24. ,  8.5,  9.5,  0. , 10.5,\n",
       "       15. ,  0. ,  0. , 12.5, 10.5,  3. ,  7.5,  0. ,  1.5,  2. ,  7.5,\n",
       "        6. ,  1.5,  8. ,  1.5,  0. , 13.5, 17.5,  0.5,  0. , 14.5, 15.5,\n",
       "       11. ,  6. ,  0. ,  1. ,  6. , 17.5,  0.5,  2. ,  7.5,  0. ,  8.5,\n",
       "       18. ,  0.5, 10.5,  3. ,  0. ,  0. ,  7.5, 20.5, 15. , 19. ,  5. ,\n",
       "        0. , 14.5,  0.5, 13.5, 14.5,  1.5, 19. , 26. ])"
      ]
     },
     "execution_count": 298,
     "metadata": {},
     "output_type": "execute_result"
    }
   ],
   "source": [
    "# KNN accuracy on original data \n",
    "knn = KNeighborsRegressor(n_neighbors=2)\n",
    "\n",
    "knn.fit(X_train, y_train)\n",
    "y_pred_class = knn.predict(X_test)\n",
    "\n",
    "y_pred_class"
   ]
  },
  {
   "cell_type": "code",
   "execution_count": 299,
   "metadata": {},
   "outputs": [
    {
     "data": {
      "text/plain": [
       "12.134166638051417"
      ]
     },
     "execution_count": 299,
     "metadata": {},
     "output_type": "execute_result"
    }
   ],
   "source": [
    "mse = metrics.mean_squared_error(y_test, y_pred_class)\n",
    "np.sqrt(mse)"
   ]
  },
  {
   "cell_type": "code",
   "execution_count": 300,
   "metadata": {},
   "outputs": [],
   "source": [
    "# KNN accuracy on scaled data\n",
    "knn.fit(X_train_scaled, y_train)\n",
    "y_pred_class = knn.predict(X_test_scaled)"
   ]
  },
  {
   "cell_type": "code",
   "execution_count": 301,
   "metadata": {},
   "outputs": [
    {
     "data": {
      "text/plain": [
       "9.772836503970245"
      ]
     },
     "execution_count": 301,
     "metadata": {},
     "output_type": "execute_result"
    }
   ],
   "source": [
    "# fix the cross-validation process using Pipeline\n",
    "pipe = make_pipeline(StandardScaler(), KNeighborsRegressor(n_neighbors=3))\n",
    "\n",
    "# use mean_squared_error\n",
    "np.sqrt(-cross_val_score(pipe, X, y, cv=5, scoring='neg_mean_squared_error').mean())"
   ]
  },
  {
   "cell_type": "markdown",
   "metadata": {},
   "source": [
    "### Randomized Search CV \n",
    "\n",
    "This is the most accurate model. The mean squared error is lower than other models. It's only 7.44 days."
   ]
  },
  {
   "cell_type": "code",
   "execution_count": 302,
   "metadata": {},
   "outputs": [
    {
     "name": "stdout",
     "output_type": "stream",
     "text": [
      "-87.27895918367346\n",
      "{'kneighborsregressor__n_neighbors': 7}\n"
     ]
    }
   ],
   "source": [
    "# search for an optimal n_neighbors value using GridSearchCV\n",
    "neighbors_range = list(range(1, 21))\n",
    "\n",
    "param_grid = dict(kneighborsregressor__n_neighbors=neighbors_range)\n",
    "\n",
    "grid = RandomizedSearchCV(pipe, param_grid, cv=5, scoring='neg_mean_squared_error')\n",
    "grid.fit(X[feature_cols], y)\n",
    "\n",
    "print(grid.best_score_)\n",
    "print(grid.best_params_)"
   ]
  },
  {
   "cell_type": "code",
   "execution_count": 288,
   "metadata": {},
   "outputs": [
    {
     "data": {
      "text/plain": [
       "9.596874491208062"
      ]
     },
     "execution_count": 288,
     "metadata": {},
     "output_type": "execute_result"
    }
   ],
   "source": [
    "np.sqrt(-grid.best_score_)"
   ]
  },
  {
   "cell_type": "code",
   "execution_count": 303,
   "metadata": {},
   "outputs": [
    {
     "data": {
      "text/plain": [
       "Pipeline(memory=None,\n",
       "     steps=[('standardscaler', StandardScaler(copy=True, with_mean=True, with_std=True)), ('kneighborsregressor', KNeighborsRegressor(algorithm='auto', leaf_size=30, metric='minkowski',\n",
       "          metric_params=None, n_jobs=1, n_neighbors=6, p=2,\n",
       "          weights='uniform'))])"
      ]
     },
     "execution_count": 303,
     "metadata": {},
     "output_type": "execute_result"
    }
   ],
   "source": [
    "model = make_pipeline(StandardScaler(), KNeighborsRegressor(n_neighbors=6))\n",
    "model.fit(X[feature_cols], y)"
   ]
  },
  {
   "cell_type": "code",
   "execution_count": 304,
   "metadata": {},
   "outputs": [
    {
     "data": {
      "text/plain": [
       "7.329362561338847"
      ]
     },
     "execution_count": 304,
     "metadata": {},
     "output_type": "execute_result"
    }
   ],
   "source": [
    "np.sqrt(metrics.mean_squared_error(y, model.predict(X[feature_cols])))"
   ]
  },
  {
   "cell_type": "code",
   "execution_count": null,
   "metadata": {},
   "outputs": [],
   "source": []
  }
 ],
 "metadata": {
  "kernelspec": {
   "display_name": "Python 3",
   "language": "python",
   "name": "python3"
  },
  "language_info": {
   "codemirror_mode": {
    "name": "ipython",
    "version": 3
   },
   "file_extension": ".py",
   "mimetype": "text/x-python",
   "name": "python",
   "nbconvert_exporter": "python",
   "pygments_lexer": "ipython3",
   "version": "3.6.5"
  }
 },
 "nbformat": 4,
 "nbformat_minor": 2
}
